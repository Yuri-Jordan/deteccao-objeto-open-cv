{
 "cells": [
  {
   "cell_type": "code",
   "execution_count": 16,
   "id": "7e4d0612",
   "metadata": {
    "scrolled": true
   },
   "outputs": [],
   "source": [
    "import cv2, numpy, os"
   ]
  },
  {
   "cell_type": "code",
   "execution_count": 69,
   "id": "fc398292",
   "metadata": {
    "scrolled": false
   },
   "outputs": [],
   "source": [
    "pathFrames = r'\\assets\\caxorrimFrames'\n",
    "#pathFrames = r'\\assets\\dogDriftFrames'\n",
    "#pathFrames = r'\\assets\\gatoPiscinaFrames'\n",
    "diretorioFrames = os.getcwd() + pathFrames"
   ]
  },
  {
   "cell_type": "code",
   "execution_count": 70,
   "id": "a390137b",
   "metadata": {},
   "outputs": [],
   "source": [
    "foregroundModel = cv2.createBackgroundSubtractorMOG2()"
   ]
  },
  {
   "cell_type": "code",
   "execution_count": 71,
   "id": "a1235e99",
   "metadata": {},
   "outputs": [],
   "source": [
    "def reduzir_ruidos(foregroundMask):\n",
    "    morf = cv2.getStructuringElement(cv2.MORPH_RECT, (3, 3))\n",
    "    return cv2.morphologyEx(numpy.float32(foregroundMask), cv2.MORPH_OPEN, morf)"
   ]
  },
  {
   "cell_type": "code",
   "execution_count": 75,
   "id": "89963432",
   "metadata": {},
   "outputs": [],
   "source": [
    "def manter_objetos_significantes(foregroundMask):\n",
    "    limiar = 100\n",
    "    a, componentes_conectados = cv2.connectedComponents(numpy.array(foregroundMask > 0, numpy.uint8))\n",
    "    imagemForeground = numpy.zeros(componentes_conectados.shape)<0\n",
    "    componentes_unicos = numpy.unique(componentes_conectados.flatten())\n",
    "    \n",
    "    for componente in componentes_unicos:\n",
    "        if componente == 0: #significa que o pixel é de background\n",
    "            continue\n",
    "        else:\n",
    "            componente_conectado = componentes_conectados == componente\n",
    "            if numpy.sum(componente_conectado) > limiar:\n",
    "                imagemForeground = imagemForeground | componente_conectado\n",
    "    return numpy.uint8(255*imagemForeground)"
   ]
  },
  {
   "cell_type": "code",
   "execution_count": 76,
   "id": "492efe34",
   "metadata": {},
   "outputs": [],
   "source": [
    "def aplicar_mascara(frame):\n",
    "    foregroundMask = foregroundModel.apply(frame)\n",
    "    foregroundMask = reduzir_ruidos(foregroundMask)\n",
    "    foregroundMask = manter_objetos_significantes(foregroundMask)\n",
    "    matrizVazia = numpy.zeros(frame.shape, numpy.uint8)\n",
    "    matrizVazia[:,:,0], matrizVazia[:,:,1], matrizVazia[:,:,2] = foregroundMask, foregroundMask, foregroundMask\n",
    "    frameConcat = numpy.hstack((frame, matrizVazia))\n",
    "    return frameConcat\n"
   ]
  },
  {
   "cell_type": "code",
   "execution_count": 77,
   "id": "4b8ee2ae",
   "metadata": {
    "scrolled": false
   },
   "outputs": [],
   "source": [
    "for nomeframe in os.listdir(diretorioFrames): \n",
    "    \n",
    "    caminhoFrame = os.path.join(diretorioFrames, nomeframe)\n",
    "    \n",
    "    frame = cv2.imread(caminhoFrame)\n",
    "    frame = cv2.resize(frame, dsize=(600, 400))\n",
    "    frameConcat = aplicar_mascara(frame)\n",
    "    \n",
    "    \n",
    "    cv2.imshow('Teste', frameConcat)\n",
    "    cv2.waitKey(20)\n",
    "    \n",
    "cv2.destroyAllWindows()"
   ]
  },
  {
   "cell_type": "code",
   "execution_count": null,
   "id": "c9955727",
   "metadata": {},
   "outputs": [],
   "source": []
  },
  {
   "cell_type": "code",
   "execution_count": null,
   "id": "bd0fab50",
   "metadata": {},
   "outputs": [],
   "source": []
  }
 ],
 "metadata": {
  "kernelspec": {
   "display_name": "Python 3",
   "language": "python",
   "name": "python3"
  },
  "language_info": {
   "codemirror_mode": {
    "name": "ipython",
    "version": 3
   },
   "file_extension": ".py",
   "mimetype": "text/x-python",
   "name": "python",
   "nbconvert_exporter": "python",
   "pygments_lexer": "ipython3",
   "version": "3.9.4"
  }
 },
 "nbformat": 4,
 "nbformat_minor": 5
}
