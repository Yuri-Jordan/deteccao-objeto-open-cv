{
 "cells": [
  {
   "cell_type": "code",
   "execution_count": 1,
   "id": "7e4d0612",
   "metadata": {
    "scrolled": true
   },
   "outputs": [
    {
     "name": "stdout",
     "output_type": "stream",
     "text": [
      "INFO:tensorflow:Enabling eager execution\n",
      "INFO:tensorflow:Enabling v2 tensorshape\n",
      "INFO:tensorflow:Enabling resource variables\n",
      "INFO:tensorflow:Enabling tensor equality\n",
      "INFO:tensorflow:Enabling control flow v2\n"
     ]
    }
   ],
   "source": [
    "import cv2, numpy, os\n",
    "import cvlib as cv\n",
    "from cvlib.object_detection import draw_bbox"
   ]
  },
  {
   "cell_type": "code",
   "execution_count": 2,
   "id": "75c2a6db",
   "metadata": {},
   "outputs": [],
   "source": [
    "#pathVideo = r'\\assets\\Caxorrim corajoso.mp4'\n",
    "pathVideo = r'\\assets\\DogDrift.mp4'\n",
    "#pathVideo = r'\\assets\\Gato Piscina.mp4'\n",
    "diretorioVideo = os.getcwd() + pathVideo\n",
    "diretorioVideoProcessado = os.getcwd() + r'\\assets\\output'"
   ]
  },
  {
   "cell_type": "code",
   "execution_count": 3,
   "id": "a390137b",
   "metadata": {},
   "outputs": [],
   "source": [
    "foregroundModel = cv2.createBackgroundSubtractorMOG2()\n",
    "frameEmProcessamento = ''\n",
    "\n",
    "# variáveis relacionadas a função manter_objetos_tamanho_significante \n",
    "limiarTamanhoObjeto = 100\n",
    "\n",
    "# variáveis relacionadas a gravação de imagens com movimentos \n",
    "minimaQuantidadeDeFrames = 2\n",
    "arrayMovimentoDetectado = []\n",
    "arrayCapturaDeFrames = []\n",
    "idxFrameAtual = 0"
   ]
  },
  {
   "cell_type": "code",
   "execution_count": 4,
   "id": "a1235e99",
   "metadata": {},
   "outputs": [],
   "source": [
    "def reduzir_ruidos(foregroundMask):\n",
    "    morf = cv2.getStructuringElement(cv2.MORPH_RECT, (3, 3))\n",
    "    return cv2.morphologyEx(numpy.float32(foregroundMask), cv2.MORPH_OPEN, morf)"
   ]
  },
  {
   "cell_type": "code",
   "execution_count": 5,
   "id": "cbf967a5",
   "metadata": {},
   "outputs": [],
   "source": [
    "def frames_sao_consecutivos(arrayMovimentoDetectados):\n",
    "    return arrayMovimentoDetectado[-1] > arrayMovimentoDetectado[-2] + 1"
   ]
  },
  {
   "cell_type": "code",
   "execution_count": 6,
   "id": "69ec1b22",
   "metadata": {},
   "outputs": [],
   "source": [
    "def salvar_sequencia(arrayCapturaDeFrames, idxFrameAtual, minimaQuantidadeDeFrames, diretorioFramesFiltrados):\n",
    "\n",
    "    if len(arrayCapturaDeFrames) < minimaQuantidadeDeFrames:\n",
    "        pass\n",
    "    else:\n",
    "        frameSequenciaAtual = 1\n",
    "        for frame in arrayCapturaDeFrames:\n",
    "            nomeImagem = str(idxFrameAtual) + '_' + str(frameSequenciaAtual) + '.jpg'\n",
    "            outPath = os.path.join(diretorioFramesFiltrados, nomeImagem)\n",
    "            bbox, labels, conf = cv.detect_common_objects(frame)\n",
    "            frame = draw_bbox(frame, bbox, labels, conf)\n",
    "            cv2.imwrite(outPath, frame)\n",
    "            frameSequenciaAtual += 1"
   ]
  },
  {
   "cell_type": "code",
   "execution_count": 7,
   "id": "89963432",
   "metadata": {},
   "outputs": [],
   "source": [
    "def manter_objetos_tamanho_significante(foregroundMask):\n",
    "    a, componentes_conectados = cv2.connectedComponents(numpy.array(foregroundMask > 0, numpy.uint8))\n",
    "    imagemForeground = numpy.zeros(componentes_conectados.shape)<0\n",
    "    componentes_unicos = numpy.unique(componentes_conectados.flatten())\n",
    "    \n",
    "    for componente in componentes_unicos:\n",
    "        if componente == 0: #significa que o pixel é de background\n",
    "            continue\n",
    "        else:\n",
    "            componente_conectado = componentes_conectados == componente\n",
    "            if numpy.sum(componente_conectado) > limiarTamanhoObjeto:\n",
    "                imagemForeground = imagemForeground | componente_conectado\n",
    "    return numpy.uint8(255*imagemForeground)"
   ]
  },
  {
   "cell_type": "code",
   "execution_count": 8,
   "id": "492efe34",
   "metadata": {},
   "outputs": [],
   "source": [
    "def processar_imagem(arrayMovimentoDetectado, arrayCapturaDeFrames, idxFrameAtual, minimaQuantidadeDeFrames, diretorioFramesFiltrados):\n",
    "    foregroundMask = foregroundModel.apply(frameEmProcessamento)\n",
    "    foregroundMask = reduzir_ruidos(foregroundMask)\n",
    "    foregroundMask = manter_objetos_tamanho_significante(foregroundMask)\n",
    "    \n",
    "    \n",
    "    if numpy.sum(foregroundMask) > 0:\n",
    "        arrayMovimentoDetectado.append(idxFrameAtual)\n",
    "        arrayCapturaDeFrames.append(frameEmProcessamento)\n",
    "        \n",
    "    if len(arrayMovimentoDetectado) >= 2 and frames_sao_consecutivos(arrayMovimentoDetectado):\n",
    "        salvar_sequencia(arrayCapturaDeFrames, idxFrameAtual, minimaQuantidadeDeFrames, diretorioFramesFiltrados)\n",
    "        arrayMovimentoDetectado = []\n",
    "        arrayCapturaDeFrames = []\n",
    "    \n",
    "    \n",
    "    matrizVazia = numpy.zeros(frameEmProcessamento.shape, numpy.uint8)\n",
    "    matrizVazia[:,:,0], matrizVazia[:,:,1], matrizVazia[:,:,2] = foregroundMask, foregroundMask, foregroundMask\n",
    "    frameConcat = numpy.hstack((frameEmProcessamento, matrizVazia))\n",
    "    return frameConcat\n"
   ]
  },
  {
   "cell_type": "code",
   "execution_count": 11,
   "id": "19767087",
   "metadata": {},
   "outputs": [],
   "source": [
    "esc = 27\n",
    "cap = cv2.VideoCapture(diretorioVideo)\n",
    "\n",
    "if (cap.isOpened()== False): \n",
    "  print(\"Erro ao abrir o vídeo\")\n",
    "\n",
    "while(cap.isOpened()):\n",
    "\n",
    "  success, frame = cap.read()\n",
    "  if success == True:\n",
    "    \n",
    "    idxFrameAtual += 1\n",
    "    \n",
    "    frameEmProcessamento = frame\n",
    "    frameEmProcessamento = cv2.resize(frameEmProcessamento, dsize=(600, 400))\n",
    "    frameConcat = processar_imagem(arrayMovimentoDetectado, arrayCapturaDeFrames, idxFrameAtual, minimaQuantidadeDeFrames, diretorioVideoProcessado)\n",
    "\n",
    "    #cv2.imshow('Frame', frameConcat)\n",
    "\n",
    "    # Aperte esc para sair\n",
    "    key = cv2.waitKey(80)\n",
    "    if key == 27:\n",
    "        break\n",
    "\n",
    "  else: \n",
    "    break\n",
    "\n",
    "cap.release()\n",
    "#salvar_sequencia(arrayCapturaDeFrames, idxFrameAtual, minimaQuantidadeDeFrames, diretorioVideoProcessado)\n",
    "cv2.destroyAllWindows()"
   ]
  },
  {
   "cell_type": "markdown",
   "id": "37fe60d8",
   "metadata": {},
   "source": [
    "## Ler resultado do processamento "
   ]
  },
  {
   "cell_type": "code",
   "execution_count": 12,
   "id": "bd0fab50",
   "metadata": {},
   "outputs": [],
   "source": [
    "esc = 27\n",
    "for nomeframe in os.listdir(diretorioVideoProcessado): \n",
    "    \n",
    "    if(nomeframe == r'.gitkeep'):\n",
    "        continue\n",
    "    \n",
    "    caminhoFrame = os.path.join(diretorioVideoProcessado, nomeframe)\n",
    "    \n",
    "    frame = cv2.imread(caminhoFrame)\n",
    "    frame = cv2.resize(frame, dsize=(600, 400))    \n",
    "    \n",
    "    cv2.imshow('Resultado', frame)\n",
    "    key = cv2.waitKey(80)\n",
    "    if key == 27:\n",
    "        break\n",
    "    \n",
    "cv2.destroyAllWindows()"
   ]
  },
  {
   "cell_type": "code",
   "execution_count": null,
   "id": "7fb6b0b3",
   "metadata": {},
   "outputs": [],
   "source": []
  },
  {
   "cell_type": "code",
   "execution_count": null,
   "id": "40464f57",
   "metadata": {},
   "outputs": [],
   "source": []
  }
 ],
 "metadata": {
  "kernelspec": {
   "display_name": "Python 3",
   "language": "python",
   "name": "python3"
  },
  "language_info": {
   "codemirror_mode": {
    "name": "ipython",
    "version": 3
   },
   "file_extension": ".py",
   "mimetype": "text/x-python",
   "name": "python",
   "nbconvert_exporter": "python",
   "pygments_lexer": "ipython3",
   "version": "3.9.4"
  }
 },
 "nbformat": 4,
 "nbformat_minor": 5
}
