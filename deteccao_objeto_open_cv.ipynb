{
 "cells": [
  {
   "cell_type": "code",
   "execution_count": 1,
   "id": "7e4d0612",
   "metadata": {
    "scrolled": true
   },
   "outputs": [],
   "source": [
    "import cv2, numpy, os"
   ]
  },
  {
   "cell_type": "code",
   "execution_count": 14,
   "id": "fc398292",
   "metadata": {
    "scrolled": false
   },
   "outputs": [],
   "source": [
    "pathFrames = r'\\assets\\caxorrimFrames'\n",
    "#pathFrames = r'\\assets\\dogDriftFrames'\n",
    "#pathFrames = r'\\assets\\gatoPiscinaFrames'\n",
    "diretorioFrames = os.getcwd() + pathFrames"
   ]
  },
  {
   "cell_type": "code",
   "execution_count": 15,
   "id": "a390137b",
   "metadata": {},
   "outputs": [],
   "source": [
    "foregroundModel = cv2.createBackgroundSubtractorMOG2()"
   ]
  },
  {
   "cell_type": "code",
   "execution_count": 16,
   "id": "492efe34",
   "metadata": {},
   "outputs": [],
   "source": [
    "def aplicar_mascara(frame):\n",
    "    foregroundMask = foregroundModel.apply(frame)\n",
    "    matrizVazia = numpy.zeros(frame.shape, numpy.uint8)\n",
    "    matrizVazia[:,:,0], matrizVazia[:,:,1], matrizVazia[:,:,2] = foregroundMask, foregroundMask, foregroundMask\n",
    "    frameConcat = numpy.hstack((frame, matrizVazia))\n",
    "    return frameConcat\n"
   ]
  },
  {
   "cell_type": "code",
   "execution_count": 17,
   "id": "4b8ee2ae",
   "metadata": {
    "scrolled": false
   },
   "outputs": [],
   "source": [
    "for nomeframe in os.listdir(diretorioFrames): \n",
    "    \n",
    "    caminhoFrame = os.path.join(diretorioFrames, nomeframe)\n",
    "    \n",
    "    frame = cv2.imread(caminhoFrame)\n",
    "    frame = cv2.resize(frame, dsize=(600, 400))\n",
    "    frameConcat = aplicar_mascara(frame)\n",
    "    \n",
    "    \n",
    "    cv2.imshow('Teste', frameConcat)\n",
    "    cv2.waitKey(30)\n",
    "    \n",
    "cv2.destroyAllWindows()"
   ]
  },
  {
   "cell_type": "code",
   "execution_count": null,
   "id": "fb504186",
   "metadata": {},
   "outputs": [],
   "source": []
  },
  {
   "cell_type": "code",
   "execution_count": null,
   "id": "957b65b2",
   "metadata": {},
   "outputs": [],
   "source": []
  }
 ],
 "metadata": {
  "kernelspec": {
   "display_name": "Python 3",
   "language": "python",
   "name": "python3"
  },
  "language_info": {
   "codemirror_mode": {
    "name": "ipython",
    "version": 3
   },
   "file_extension": ".py",
   "mimetype": "text/x-python",
   "name": "python",
   "nbconvert_exporter": "python",
   "pygments_lexer": "ipython3",
   "version": "3.9.4"
  }
 },
 "nbformat": 4,
 "nbformat_minor": 5
}
