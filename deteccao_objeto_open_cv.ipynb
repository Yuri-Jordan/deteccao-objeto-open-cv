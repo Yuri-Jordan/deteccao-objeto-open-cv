{
 "cells": [
  {
   "cell_type": "code",
   "execution_count": 5,
   "id": "7e4d0612",
   "metadata": {
    "scrolled": true
   },
   "outputs": [],
   "source": [
    "import cv2, numpy, os"
   ]
  },
  {
   "cell_type": "code",
   "execution_count": 11,
   "id": "fc398292",
   "metadata": {
    "scrolled": false
   },
   "outputs": [],
   "source": [
    "pathFrames = r'\\assets\\caxorrimFrames'\n",
    "#pathFrames = r'\\assets\\dogDriftFrames'\n",
    "#pathFrames = r'\\assets\\gatoPiscinaFrames'\n",
    "diretorioFrames = os.getcwd() + pathFrames"
   ]
  },
  {
   "cell_type": "code",
   "execution_count": 12,
   "id": "4b8ee2ae",
   "metadata": {
    "scrolled": false
   },
   "outputs": [],
   "source": [
    "for nomeframe in os.listdir(diretorioFrames): \n",
    "    caminhoFrame = os.path.join(diretorioFrames, nomeframe)\n",
    "    frame = cv2.imread(caminhoFrame)\n",
    "    frame = cv2.resize(frame, dsize=(600, 400))\n",
    "    cv2.imshow('Teste', frame)\n",
    "    cv2.waitKey(30)\n",
    "    \n",
    "cv2.destroyAllWindows()"
   ]
  },
  {
   "cell_type": "code",
   "execution_count": null,
   "id": "fb504186",
   "metadata": {},
   "outputs": [],
   "source": []
  },
  {
   "cell_type": "code",
   "execution_count": null,
   "id": "957b65b2",
   "metadata": {},
   "outputs": [],
   "source": []
  }
 ],
 "metadata": {
  "kernelspec": {
   "display_name": "Python 3",
   "language": "python",
   "name": "python3"
  },
  "language_info": {
   "codemirror_mode": {
    "name": "ipython",
    "version": 3
   },
   "file_extension": ".py",
   "mimetype": "text/x-python",
   "name": "python",
   "nbconvert_exporter": "python",
   "pygments_lexer": "ipython3",
   "version": "3.9.4"
  }
 },
 "nbformat": 4,
 "nbformat_minor": 5
}
